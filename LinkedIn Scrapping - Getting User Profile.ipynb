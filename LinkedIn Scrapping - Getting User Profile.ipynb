{
 "cells": [
  {
   "cell_type": "code",
   "execution_count": 3,
   "metadata": {},
   "outputs": [],
   "source": [
    "from selenium import webdriver \n",
    "from selenium.common.exceptions import NoSuchElementException\n",
    "from selenium.common.exceptions import StaleElementReferenceException\n",
    "from selenium.webdriver.common.by import By\n",
    "from selenium.webdriver.support.ui import WebDriverWait\n",
    "from selenium.webdriver.support import expected_conditions as EC\n",
    "\n",
    "import re\n",
    "import json\n",
    "import time\n",
    "from datetime import datetime\n",
    "import pandas as pd"
   ]
  },
  {
   "cell_type": "code",
   "execution_count": 4,
   "metadata": {},
   "outputs": [],
   "source": [
    "def write_result_to_json(results, filename):    \n",
    "    with open(filename, 'r') as f:\n",
    "        try:\n",
    "            data = json.load(f)\n",
    "        except ValueError:\n",
    "            data = []\n",
    "    f.close()\n",
    "    with open(filename, 'w') as f:\n",
    "        data += results\n",
    "        json.dump(data, f)\n",
    "    f.close()"
   ]
  },
  {
   "cell_type": "code",
   "execution_count": 5,
   "metadata": {},
   "outputs": [],
   "source": [
    "def check_exists_by_class_name(webelement, class_name):\n",
    "    try:\n",
    "        webelement.find_element_by_class_name(class_name)\n",
    "        return True\n",
    "    except NoSuchElementException:\n",
    "        return False"
   ]
  },
  {
   "cell_type": "code",
   "execution_count": 6,
   "metadata": {},
   "outputs": [],
   "source": [
    "class ProfileHeader:\n",
    "    def __init__(self, profile_id, profile_name, headline, email, num_connection):\n",
    "        self.profile_id = profile_id\n",
    "        self.profile_link = \"https://www.linkedin.com/in/\"+profile_id+\"/\"\n",
    "        self.profile_name = profile_name\n",
    "        self.headline = headline\n",
    "        self.email = email\n",
    "        self.num_connection = num_connection\n",
    "        self.updated_at = datetime.strftime(datetime.now(), \"%Y-%m-%d %H:%M:%S\")\n",
    "        \n",
    "    def dictionarize(self):\n",
    "        return self.__dict__\n",
    "\n",
    "class Experience:\n",
    "    def __init__(self, profile_id, company, position, beg_date, end_date, location):\n",
    "        self.profile_id = profile_id\n",
    "        self.company = company\n",
    "        self.position = position\n",
    "        self.begin_date = beg_date\n",
    "        self.end_date = end_date\n",
    "        self.location = location\n",
    "        self.updated_at = datetime.strftime(datetime.now(), \"%Y-%m-%d %H:%M:%S\")\n",
    "    \n",
    "    def dictionarize(self):\n",
    "        return self.__dict__\n",
    "\n",
    "class Education:\n",
    "    def __init__(self, profile_id, school, degree_name, fos, start_year, end_year):\n",
    "        self.profile_id = profile_id\n",
    "        self.school_name = school\n",
    "        self.degree_name = degree_name\n",
    "        self.field_of_study = fos\n",
    "        self.start_year = start_year\n",
    "        self.end_year = end_year\n",
    "        self.updated_at = datetime.strftime(datetime.now(), \"%Y-%m-%d %H:%M:%S\")\n",
    "    \n",
    "    def dictionarize(self):\n",
    "        return self.__dict__"
   ]
  },
  {
   "cell_type": "code",
   "execution_count": 7,
   "metadata": {},
   "outputs": [],
   "source": [
    "def extract_from_education_section(education_section, profile_id):\n",
    "    educations = []\n",
    "    WebDriverWait(browser, 60).until(\n",
    "            EC.presence_of_element_located((By.CLASS_NAME, \"education-section\")))\n",
    "\n",
    "    if check_exists_by_class_name(education_section, \"pv-profile-section__see-more-inline\"):\n",
    "        show_more_education_button = education_section.find_element_by_class_name('pv-profile-section__see-more-inline')\n",
    "        show_more_education_button.click()\n",
    "\n",
    "    for education in education_section.find_elements_by_class_name(\"pv-profile-section__sortable-card-item\"):\n",
    "        school = education.find_element_by_class_name(\"pv-entity__school-name\").text\n",
    "        secondary_titles = education.find_elements_by_class_name(\"pv-entity__secondary-title\")\n",
    "        degree_name = None\n",
    "        fos = None\n",
    "        start_year = None\n",
    "        end_year = None\n",
    "        for title in secondary_titles:\n",
    "            if \"degree\" in title.get_attribute(\"class\"):\n",
    "                degree_name = title.text.split('\\n')[-1]\n",
    "            if \"fos\" in title.get_attribute(\"class\"):\n",
    "                fos = title.text.split('\\n')[-1]\n",
    "        if check_exists_by_class_name(education, \"pv-entity__dates\"):\n",
    "            year = re.sub('[^0-9a-zA-Z ]+', '-', \n",
    "                            education.find_element_by_class_name(\"pv-entity__dates\").text.split(\"\\n\")[1])\n",
    "            start_year = year.split(' - ')[0]\n",
    "            end_year = year.split(' - ')[-1] if '-' in year else \"Present\"\n",
    "        educations.append(\n",
    "            Education(profile_id, school, degree_name, fos, start_year, end_year).dictionarize())\n",
    "    return educations"
   ]
  },
  {
   "cell_type": "code",
   "execution_count": 8,
   "metadata": {},
   "outputs": [],
   "source": [
    "def extract_from_experience_section(experience_section, profile_id):\n",
    "    WebDriverWait(browser, 60).until(\n",
    "        EC.presence_of_element_located((By.CLASS_NAME, \"experience-section\"))\n",
    "    )\n",
    "    if check_exists_by_class_name(experience_section, \"pv-profile-section__see-more-inline\"):\n",
    "        show_more_button = \\\n",
    "            experience_section.find_element_by_class_name('pv-profile-section__see-more-inline')\n",
    "        show_more_button.click()\n",
    "    sortable_card_items = experience_section.find_elements_by_class_name('pv-profile-section__sortable-card-item')\n",
    "    other_items = experience_section.find_elements_by_class_name('pv-profile-section__card-item-v2')\n",
    "    experience_items = sortable_card_items + other_items\n",
    "    work_experiences = []\n",
    "    for experience_item in experience_items:\n",
    "        work_experiences = work_experiences + \\\n",
    "            [experience.dictionarize() \n",
    "             for experience in extract_experience_from_experience_sortable_card_item(experience_item, profile_id)]\n",
    "    return work_experiences"
   ]
  },
  {
   "cell_type": "code",
   "execution_count": 9,
   "metadata": {},
   "outputs": [],
   "source": [
    "def extract_experience_from_experience_sortable_card_item(experience_sortable_card_item, profile_id):\n",
    "    container = [card_item.get_attribute(\"class\").split(\" \")[0] \n",
    "                 for card_item in experience_sortable_card_item.find_elements_by_tag_name(\"div\")]\n",
    "\n",
    "    if \"pv-entity__summary-info\" in container:\n",
    "        entity = experience_sortable_card_item.find_element_by_class_name(\"pv-entity__summary-info\")\n",
    "        experience=extract_from_entity_summary_info(entity, profile_id)\n",
    "        return([experience,])\n",
    "    elif \"pv-entity__company-details\" in container and \"pv-entity__company-summary-info\" in container:\n",
    "        experiences = extract_from_entity_summary_info_v2(experience_sortable_card_item, profile_id)\n",
    "        return experiences            "
   ]
  },
  {
   "cell_type": "code",
   "execution_count": 10,
   "metadata": {},
   "outputs": [],
   "source": [
    "def extract_from_entity_summary_info_v2(sortable_card_item, profile_id):\n",
    "    experiences = []\n",
    "    company = sortable_card_item.find_element_by_class_name(\"pv-entity__company-summary-info\")\\\n",
    "                            .find_element_by_tag_name(\"h3\").text.split(\"\\n\")[-1]\n",
    "    position_group_role_items = [item for item in sortable_card_item.find_elements_by_tag_name(\"li\") \n",
    "                                 if \"pv-entity__position-group-role-item\" in item.get_attribute(\"class\")]\n",
    "    for position_group_role_item in position_group_role_items:\n",
    "        summary_info_v2 = position_group_role_item.find_element_by_class_name(\"pv-entity__summary-info-v2\")\n",
    "        position = summary_info_v2.find_element_by_tag_name(\"h3\").text.split(\"\\n\")[-1]\n",
    "        date_range = re.sub('[^0-9a-zA-Z ]+', '-', \n",
    "                            summary_info_v2.find_element_by_class_name(\"pv-entity__date-range\")\\\n",
    "                            .text.split(\"\\n\")[1])\n",
    "        from_date = date_range.split(' - ')[0]\n",
    "        to_date = date_range.split(' - ')[1]\n",
    "        if check_exists_by_class_name(summary_info_v2, \"pv-entity__location\"):\n",
    "            location = summary_info_v2.find_element_by_class_name(\"pv-entity__location\").text.split(\"\\n\")[-1]\n",
    "        else:\n",
    "            location = None\n",
    "        experiences.append(Experience(profile_id, company, position, from_date, to_date, location))\n",
    "    return experiences"
   ]
  },
  {
   "cell_type": "code",
   "execution_count": 11,
   "metadata": {},
   "outputs": [],
   "source": [
    "def extract_from_entity_summary_info(entity, profile_id):\n",
    "    position = entity.find_element_by_tag_name(\"h3\").text\n",
    "    company = entity.find_element_by_class_name(\"pv-entity__secondary-title\").text\n",
    "    if check_exists_by_class_name(entity, \"pv-entity__location\"):\n",
    "        location = entity.find_element_by_class_name(\"pv-entity__location\").text.split(\"\\n\")[-1]\n",
    "    else:\n",
    "        location = None\n",
    "    date_range = re.sub('[^0-9a-zA-Z ]+', '-', \n",
    "                        entity.find_element_by_class_name(\"pv-entity__date-range\").text.split(\"\\n\")[1])\n",
    "    from_date = date_range.split(' - ')[0]\n",
    "    to_date = date_range.split(' - ')[1]\n",
    "    return Experience(profile_id, company, position, from_date, to_date, location)"
   ]
  },
  {
   "cell_type": "code",
   "execution_count": 12,
   "metadata": {},
   "outputs": [],
   "source": [
    "def get_profile_link(browser, profile):\n",
    "    top_card_links = browser.find_element_by_class_name(\"pv-top-card-v2-section__links\").find_elements_by_tag_name(\"a\")\n",
    "    contact_info_link = None\n",
    "    contact_email = None\n",
    "    connection = None\n",
    "    for link in top_card_links:\n",
    "        class_name = str(link.get_attribute(\"class\"))\n",
    "        if \"contact-info\" in class_name:\n",
    "            contact_info_link = link.get_attribute(\"href\")\n",
    "        elif \"connection\" in class_name:\n",
    "            connection = int(re.sub('[^0-9]+', '', link.text))\n",
    "\n",
    "    if contact_info_link is not None:\n",
    "        browser.get(str(contact_info_link))\n",
    "        elements = browser.find_elements_by_tag_name(\"a\")\n",
    "        for e in elements:\n",
    "            href = e.get_attribute(\"href\")\n",
    "            if \"mailto\" in href:\n",
    "                contact_email = href.split(\":\")[1]\n",
    "        for button in browser.find_elements_by_tag_name(\"button\"):\n",
    "            if \"dismiss\" in button.get_attribute(\"class\"):\n",
    "                button.click()\n",
    "                break\n",
    "                \n",
    "    return (contact_email, connection)\n",
    "\n",
    "def get_profile_header(browser, profile):\n",
    "    profile_id = profile.split(\"/\")[-2]\n",
    "    profile_name = browser.find_element_by_class_name(\"pv-top-card-section__name\").text\n",
    "    headline = browser.find_element_by_class_name(\"pv-top-card-section__headline\").text\n",
    "    email, num_connection = get_profile_link(browser, profile)\n",
    "    profile_header = ProfileHeader(profile_id, profile_name, headline, email, num_connection)\n",
    "    return profile_header.dictionarize()"
   ]
  },
  {
   "cell_type": "code",
   "execution_count": 13,
   "metadata": {},
   "outputs": [],
   "source": [
    "def extract_linkedin_information(browser, profile):\n",
    "    profile_id = profile.split(\"/\")[-2]\n",
    "    browser.get(profile)\n",
    "    waiting = True\n",
    "    attempt, max_attempt = (1,3)\n",
    "    get_experience, get_education, get_profile = (False, False, False)\n",
    "    while waiting:\n",
    "        try:        \n",
    "            if not get_experience:\n",
    "                experience_section = browser.find_element_by_id(\"experience-section\")\n",
    "                write_result_to_json(\n",
    "                    extract_from_experience_section(experience_section, profile_id), \"output_data/experiences.json\")\n",
    "                experience = True\n",
    "            if not get_education:\n",
    "                education_section = browser.find_element_by_id(\"education-section\")\n",
    "                write_result_to_json(\n",
    "                    extract_from_education_section(education_section, profile_id), \"output_data/educations.json\")\n",
    "                education = True\n",
    "            if not get_profile:\n",
    "                write_result_to_json(\n",
    "                    [get_profile_header(browser, profile)], \"output_data/profiles.json\")\n",
    "                profile = True\n",
    "\n",
    "            waiting = False\n",
    "        except (StaleElementReferenceException, NoSuchElementException):\n",
    "            if attempt>max_attempt:\n",
    "                raise\n",
    "            else:\n",
    "                explore_page(browser)\n",
    "                attempt += 1"
   ]
  },
  {
   "cell_type": "code",
   "execution_count": 14,
   "metadata": {},
   "outputs": [],
   "source": [
    "def explore_page(browser):\n",
    "    for i in [100, 500, 1000, 2000, 3000, 0]:\n",
    "        try:\n",
    "            browser.execute_script(\"window.scrollTo(0, {})\".format(i)) \n",
    "            time.sleep(2)\n",
    "        except:\n",
    "            pass"
   ]
  },
  {
   "cell_type": "markdown",
   "metadata": {},
   "source": [
    "### Open User Profile Page"
   ]
  },
  {
   "cell_type": "code",
   "execution_count": 15,
   "metadata": {},
   "outputs": [],
   "source": [
    "f = open(\"linkedin_user_profile_list.txt\", 'r')\n",
    "profile_id_list = []\n",
    "for i,item in enumerate(f):\n",
    "    profile_id_list.append(item[:-1])\n",
    "f.close()"
   ]
  },
  {
   "cell_type": "code",
   "execution_count": 16,
   "metadata": {},
   "outputs": [
    {
     "data": {
      "text/plain": [
       "635"
      ]
     },
     "execution_count": 16,
     "metadata": {},
     "output_type": "execute_result"
    }
   ],
   "source": [
    "profile_id_list.index(\"https://www.linkedin.com/in/alberttriadrian/\")"
   ]
  },
  {
   "cell_type": "markdown",
   "metadata": {},
   "source": [
    "## Extract Profile"
   ]
  },
  {
   "cell_type": "code",
   "execution_count": 18,
   "metadata": {},
   "outputs": [],
   "source": [
    "# Login to LinkedIn first\n",
    "browser = webdriver.Chrome(executable_path=\"D:\\Data Science Software\\chromedriver\")\n",
    "browser.get('https://www.linkedin.com')\n",
    "username_input = browser.find_element_by_id(\"login-email\")\n",
    "password_input = browser.find_element_by_id('login-password')\n",
    "login_button = browser.find_element_by_id('login-submit')\n",
    "\n",
    "username_input.send_keys('xxx@gmail.com')\n",
    "password_input.send_keys('xxx')\n",
    "login_button.click()"
   ]
  },
  {
   "cell_type": "code",
   "execution_count": null,
   "metadata": {
    "scrolled": true
   },
   "outputs": [
    {
     "name": "stdout",
     "output_type": "stream",
     "text": [
      "Successfully write 666 profile. Latest: https://www.linkedin.com/in/wahyuutomo101/\n",
      "Successfully write 676 profile. Latest: https://www.linkedin.com/in/ario-dean-wirawan/\n",
      "Successfully write 686 profile. Latest: https://www.linkedin.com/in/putu-eka-pramudita-bb295927/\n",
      "Successfully write 696 profile. Latest: https://www.linkedin.com/in/demetrius-bagas-primanto/\n",
      "Successfully write 716 profile. Latest: https://www.linkedin.com/in/hafidahadiani/\n",
      "Successfully write 726 profile. Latest: https://www.linkedin.com/in/diaz-ekaputra-6985bb130/\n",
      "Successfully write 766 profile. Latest: https://www.linkedin.com/in/azka-fathininta-windaningrum-830229125/\n"
     ]
    }
   ],
   "source": [
    "start = 636\n",
    "for i, profile in enumerate(profile_id_list[start:]):\n",
    "    if i%5 == 0:\n",
    "        time.sleep(90)\n",
    "    try:\n",
    "        extract_linkedin_information(browser, profile)\n",
    "        if i%10 == 0:\n",
    "            print(\"Successfully write {} profile. Latest: {}\".format(i+start, profile))\n",
    "    except Exception as e:\n",
    "        profile_exception = {'profile' : profile,'exception': str(e)}\n",
    "        write_result_to_json([profile_exception], \"exceptions.json\")"
   ]
  }
 ],
 "metadata": {
  "kernelspec": {
   "display_name": "Python 3",
   "language": "python",
   "name": "python3"
  },
  "language_info": {
   "codemirror_mode": {
    "name": "ipython",
    "version": 3
   },
   "file_extension": ".py",
   "mimetype": "text/x-python",
   "name": "python",
   "nbconvert_exporter": "python",
   "pygments_lexer": "ipython3",
   "version": "3.7.2"
  }
 },
 "nbformat": 4,
 "nbformat_minor": 2
}
