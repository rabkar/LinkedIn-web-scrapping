{
 "cells": [
  {
   "cell_type": "code",
   "execution_count": 8,
   "metadata": {},
   "outputs": [],
   "source": [
    "from selenium import webdriver \n",
    "import json"
   ]
  },
  {
   "cell_type": "code",
   "execution_count": 18,
   "metadata": {},
   "outputs": [],
   "source": [
    "def get_search_results_from_page(search_result_page):\n",
    "    search_results = [\n",
    "        result for result in search_result_page.find_element_by_class_name(\"search-results__list\")\\\n",
    "                                               .find_elements_by_tag_name(\"li\")\\\n",
    "        if \"search-result\" in result.get_attribute(\"class\")\n",
    "    ]\n",
    "    return search_results"
   ]
  },
  {
   "cell_type": "code",
   "execution_count": 19,
   "metadata": {},
   "outputs": [],
   "source": [
    "def get_user_id(search_result):\n",
    "    return search_result\\\n",
    "        .find_element_by_class_name(\"search-result__wrapper\")\\\n",
    "        .find_element_by_class_name(\"search-result__info\")\\\n",
    "        .find_element_by_class_name('search-result__result-link')\\\n",
    "        .get_attribute(\"href\")"
   ]
  },
  {
   "cell_type": "code",
   "execution_count": 13,
   "metadata": {},
   "outputs": [],
   "source": [
    "people_search_keywords = \\\n",
    "    'https://www.linkedin.com/search/results/people/?keywords={0}&origin=TYPEAHEAD_ESCAPE_HATCH&page={1}'"
   ]
  },
  {
   "cell_type": "code",
   "execution_count": 31,
   "metadata": {},
   "outputs": [],
   "source": [
    "browser = webdriver.Chrome(executable_path=\"D:\\Data Science Software\\chromedriver\")"
   ]
  },
  {
   "cell_type": "code",
   "execution_count": 32,
   "metadata": {},
   "outputs": [],
   "source": [
    "# Login to LinkedIn first\n",
    "browser.get('https://www.linkedin.com')\n",
    "username_input = browser.find_element_by_id(\"login-email\")\n",
    "password_input = browser.find_element_by_id('login-password')\n",
    "login_button = browser.find_element_by_id('login-submit')\n",
    "\n",
    "username_input.send_keys('xxx@gmail.com')\n",
    "password_input.send_keys('xxxx')\n",
    "login_button.click()"
   ]
  },
  {
   "cell_type": "code",
   "execution_count": 33,
   "metadata": {},
   "outputs": [],
   "source": [
    "user_profile_list = []"
   ]
  },
  {
   "cell_type": "code",
   "execution_count": 39,
   "metadata": {
    "scrolled": true
   },
   "outputs": [
    {
     "name": "stdout",
     "output_type": "stream",
     "text": [
      "Page: 23 245 link profile retreived\n",
      "Page: 24 245 link profile retreived\n",
      "Page: 25 245 link profile retreived\n",
      "Page: 26 245 link profile retreived\n",
      "Page: 27 245 link profile retreived\n",
      "Page: 28 245 link profile retreived\n",
      "Page: 29 245 link profile retreived\n",
      "Page: 30 245 link profile retreived\n",
      "Page: 31 245 link profile retreived\n",
      "Page: 32 245 link profile retreived\n",
      "Page: 33 245 link profile retreived\n",
      "Page: 34 245 link profile retreived\n",
      "Page: 35 245 link profile retreived\n",
      "Page: 36 245 link profile retreived\n",
      "Page: 37 245 link profile retreived\n",
      "Page: 38 245 link profile retreived\n",
      "Page: 39 245 link profile retreived\n",
      "Page: 40 245 link profile retreived\n",
      "Page: 41 245 link profile retreived\n",
      "Page: 42 245 link profile retreived\n",
      "Page: 43 245 link profile retreived\n",
      "Page: 44 245 link profile retreived\n",
      "Page: 45 245 link profile retreived\n",
      "Page: 46 245 link profile retreived\n",
      "Page: 47 245 link profile retreived\n",
      "Page: 48 245 link profile retreived\n",
      "Page: 49 245 link profile retreived\n",
      "Page: 50 245 link profile retreived\n"
     ]
    }
   ],
   "source": [
    "keyword = \"engineering\"\n",
    "for page in range(23,51):\n",
    "    browser.get(people_search_keywords.format(keyword, page))\n",
    "    search_results = get_search_results_from_page(browser)\n",
    "    current_height = 0\n",
    "    for result in search_results:\n",
    "        result_id = result.get_attribute(\"id\")\n",
    "        while \"occlusion-hint\" in result.get_attribute(\"class\"):\n",
    "            current_height += 10\n",
    "            browser.execute_script(\"window.scrollTo(0, {})\".format(current_height)) \n",
    "            result = [res for res in get_search_results_from_page(browser) if res.get_attribute(\"id\")==result_id][0]\n",
    "        \n",
    "        try:\n",
    "            user_id = get_user_id(result)\n",
    "            if \"www.linkedin.com/in/\" in user_id:\n",
    "                user_profile_list.append(user_id)\n",
    "        except:\n",
    "            pass\n",
    "    print(\"Page:\", page, len(user_profile_list), \"link profile retreived\")"
   ]
  },
  {
   "cell_type": "code",
   "execution_count": 40,
   "metadata": {},
   "outputs": [
    {
     "data": {
      "text/plain": [
       "245"
      ]
     },
     "execution_count": 40,
     "metadata": {},
     "output_type": "execute_result"
    }
   ],
   "source": [
    "len(user_profile_list)"
   ]
  },
  {
   "cell_type": "code",
   "execution_count": 37,
   "metadata": {},
   "outputs": [],
   "source": [
    "f = open(\"linkedin_user_profile_list_key_{}.txt\".format(keyword), 'w')\n",
    "for user in user_profile_list:\n",
    "    f.write(\"{}\\n\".format(user))\n",
    "f.close()"
   ]
  }
 ],
 "metadata": {
  "kernelspec": {
   "display_name": "Python 3",
   "language": "python",
   "name": "python3"
  },
  "language_info": {
   "codemirror_mode": {
    "name": "ipython",
    "version": 3
   },
   "file_extension": ".py",
   "mimetype": "text/x-python",
   "name": "python",
   "nbconvert_exporter": "python",
   "pygments_lexer": "ipython3",
   "version": "3.7.2"
  }
 },
 "nbformat": 4,
 "nbformat_minor": 2
}
